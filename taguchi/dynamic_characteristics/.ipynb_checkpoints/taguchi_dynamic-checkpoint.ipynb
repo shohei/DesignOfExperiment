{
 "cells": [
  {
   "cell_type": "code",
   "execution_count": 1,
   "id": "63916a01-1d42-40e0-bdd1-654a932879eb",
   "metadata": {},
   "outputs": [],
   "source": [
    "import warnings\n",
    "warnings.filterwarnings(\"ignore\")"
   ]
  },
  {
   "cell_type": "code",
   "execution_count": 2,
   "id": "a1478ef4-6326-43b5-90f0-ee261fa88fe4",
   "metadata": {},
   "outputs": [],
   "source": [
    "import pandas as pd\n",
    "import numpy as np\n",
    "import pdb\n",
    "import math\n",
    "import matplotlib.pyplot as plt\n",
    "from sklearn import linear_model\n",
    "from itertools import product\n",
    "\n",
    "df = pd.read_csv('structure.csv')\n",
    "df_input = pd.read_csv('structure_input.csv')\n",
    "\n",
    "n = 10 # This is the assumed sampling number\n",
    "# wは制御因子, xは誤差因子\n",
    "x_labels = [c for c in df.columns if 'x' in c]\n",
    "w_u_labels = [c for c in df.columns if 'w' in c]\n",
    "# w_u_labels_dict = {}\n",
    "# for w_u_label in w_u_labels:\n",
    "#     w = w_u_label.split(':')[0]\n",
    "#     u = w_u_label.split(':')[1]\n",
    "#     if not w in w_u_labels_dict:\n",
    "#         w_u_labels_dict[w] = [u]\n",
    "#     else:\n",
    "#         w_u_labels_dict[w].append(u)\n",
    "w_labels = [w_u_label.split(':')[0] for w_u_label in w_u_labels]\n",
    "u_labels = [w_u_label.split(':')[1] for w_u_label in w_u_labels]\n",
    "df_error = df[w_u_labels]\n",
    "df_control = df[x_labels]\n",
    "\n",
    "N = len(df) # 8\n",
    "N_x = len(x_labels)\n",
    "N_w = len(w_labels)\n"
   ]
  },
  {
   "cell_type": "code",
   "execution_count": 3,
   "id": "0cb0103f-8fb8-4085-a24b-95d3a051251d",
   "metadata": {},
   "outputs": [
    {
     "data": {
      "text/plain": [
       "['u1', 'u1', 'u2', 'u2']"
      ]
     },
     "execution_count": 3,
     "metadata": {},
     "output_type": "execute_result"
    }
   ],
   "source": [
    "u_labels"
   ]
  },
  {
   "cell_type": "code",
   "execution_count": 4,
   "id": "9fcc8372-4072-4d93-8fb4-3c19436c05ef",
   "metadata": {},
   "outputs": [
    {
     "data": {
      "text/html": [
       "<div>\n",
       "<style scoped>\n",
       "    .dataframe tbody tr th:only-of-type {\n",
       "        vertical-align: middle;\n",
       "    }\n",
       "\n",
       "    .dataframe tbody tr th {\n",
       "        vertical-align: top;\n",
       "    }\n",
       "\n",
       "    .dataframe thead th {\n",
       "        text-align: right;\n",
       "    }\n",
       "</style>\n",
       "<table border=\"1\" class=\"dataframe\">\n",
       "  <thead>\n",
       "    <tr style=\"text-align: right;\">\n",
       "      <th></th>\n",
       "      <th>u1</th>\n",
       "      <th>u2</th>\n",
       "    </tr>\n",
       "  </thead>\n",
       "  <tbody>\n",
       "    <tr>\n",
       "      <th>0</th>\n",
       "      <td>50</td>\n",
       "      <td>200</td>\n",
       "    </tr>\n",
       "  </tbody>\n",
       "</table>\n",
       "</div>"
      ],
      "text/plain": [
       "   u1   u2\n",
       "0  50  200"
      ]
     },
     "execution_count": 4,
     "metadata": {},
     "output_type": "execute_result"
    }
   ],
   "source": [
    "df_input"
   ]
  },
  {
   "cell_type": "code",
   "execution_count": 5,
   "id": "62bf7123-be15-4ba4-a547-b8c64841a7f6",
   "metadata": {},
   "outputs": [],
   "source": [
    "beta = [0]*N #感度\n",
    "ST = 0 #全変動\n",
    "Sbeta = [0]*N #回帰変動\n",
    "SE = [0]*N  #残差変動\n",
    "SN = [0]*N  #SN比\n",
    "import pdb\n",
    "for i, row in df_error.iterrows():\n",
    "    num = 0\n",
    "    den = 0\n",
    "    for j, r in enumerate(row):\n",
    "        u = df_input[u_labels[j]]\n",
    "        num = num + u*r\n",
    "        den = den + u**2\n",
    "    beta[i] = num/den\n",
    "    ST = sum([r**2 for r in row])\n",
    "    Sbeta[i] = beta[i]**2 * den \n",
    "    SE[i] = ST - Sbeta[i]\n",
    "    SN[i] = 10*math.log10(Sbeta[i]/SE[i])"
   ]
  },
  {
   "cell_type": "code",
   "execution_count": 6,
   "id": "5ae6868f-1d9a-43fc-b6c9-a5bbe94788fc",
   "metadata": {},
   "outputs": [],
   "source": [
    "# 改善すべき因子の抽出 (第一段階: SN比を利用)\n",
    "SN_mean_difference = [0]*N_x\n",
    "sn_mean_a = [0]*N_x\n",
    "sn_mean_b = [0]*N_x\n",
    "sn_mean_c = [0]*N_x\n",
    "for i in range(N_x):\n",
    "    x = x_labels[i]\n",
    "    df_x = df_control[x]\n",
    "    for j, _ in enumerate(SN):\n",
    "        if df_x[j]==1:\n",
    "            sn_mean_a[i] += SN[j]\n",
    "        elif df_x[j]==2:\n",
    "            sn_mean_b[i] += SN[j]\n",
    "        elif df_x[j]==3:\n",
    "            sn_mean_c[i] += SN[j]\n",
    "    sn_mean_a[i] = sn_mean_a[i] / (N/3)\n",
    "    sn_mean_b[i] = sn_mean_b[i] / (N/3)\n",
    "    sn_mean_c[i] = sn_mean_c[i] / (N/3)\n",
    "    SN_mean_difference[i] = max(sn_mean_a[i],sn_mean_b[i],sn_mean_c[i]) \\\n",
    "                         - min(sn_mean_a[i],sn_mean_b[i],sn_mean_c[i])\n",
    "   "
   ]
  },
  {
   "cell_type": "code",
   "execution_count": 47,
   "id": "4c8b1278-35fd-4a61-9ef8-9e889cd6f960",
   "metadata": {},
   "outputs": [
    {
     "name": "stdout",
     "output_type": "stream",
     "text": [
      "0.04892647058823529\n",
      "0.03741666666666666\n"
     ]
    },
    {
     "ename": "TypeError",
     "evalue": "unsupported operand type(s) for -: 'NoneType' and 'NoneType'",
     "output_type": "error",
     "traceback": [
      "\u001b[0;31m---------------------------------------------------------------------------\u001b[0m",
      "\u001b[0;31mTypeError\u001b[0m                                 Traceback (most recent call last)",
      "Cell \u001b[0;32mIn[47], line 20\u001b[0m\n\u001b[1;32m     17\u001b[0m mean_beta_b[i] \u001b[38;5;241m=\u001b[39m mean_beta_b[i] \u001b[38;5;241m/\u001b[39m (N\u001b[38;5;241m/\u001b[39m\u001b[38;5;241m3\u001b[39m)\n\u001b[1;32m     18\u001b[0m mean_beta_c[i] \u001b[38;5;241m=\u001b[39m mean_beta_c[i] \u001b[38;5;241m/\u001b[39m (N\u001b[38;5;241m/\u001b[39m\u001b[38;5;241m3\u001b[39m)\n\u001b[1;32m     19\u001b[0m Mean_beta_difference[i] \u001b[38;5;241m=\u001b[39m \\\n\u001b[0;32m---> 20\u001b[0m \u001b[38;5;28;43mprint\u001b[39;49m\u001b[43m(\u001b[49m\u001b[43mnp\u001b[49m\u001b[38;5;241;43m.\u001b[39;49m\u001b[43mmax\u001b[49m\u001b[43m(\u001b[49m\u001b[43m(\u001b[49m\u001b[43mmean_beta_a\u001b[49m\u001b[43m[\u001b[49m\u001b[43mi\u001b[49m\u001b[43m]\u001b[49m\u001b[43m,\u001b[49m\u001b[43mmean_beta_b\u001b[49m\u001b[43m[\u001b[49m\u001b[43mi\u001b[49m\u001b[43m]\u001b[49m\u001b[43m,\u001b[49m\u001b[43mmean_beta_c\u001b[49m\u001b[43m[\u001b[49m\u001b[43mi\u001b[49m\u001b[43m]\u001b[49m\u001b[43m)\u001b[49m\u001b[43m)\u001b[49m\u001b[43m)\u001b[49m\u001b[43m \u001b[49m\u001b[38;5;241;43m-\u001b[39;49m\u001b[43m \u001b[49m\u001b[43m\\\u001b[49m\n\u001b[1;32m     21\u001b[0m \u001b[43m\u001b[49m\u001b[38;5;28;43mprint\u001b[39;49m\u001b[43m(\u001b[49m\u001b[43mnp\u001b[49m\u001b[38;5;241;43m.\u001b[39;49m\u001b[43mmin\u001b[49m\u001b[43m(\u001b[49m\u001b[43m(\u001b[49m\u001b[43mmean_beta_a\u001b[49m\u001b[43m[\u001b[49m\u001b[43mi\u001b[49m\u001b[43m]\u001b[49m\u001b[43m,\u001b[49m\u001b[43mmean_beta_b\u001b[49m\u001b[43m[\u001b[49m\u001b[43mi\u001b[49m\u001b[43m]\u001b[49m\u001b[43m,\u001b[49m\u001b[43mmean_beta_c\u001b[49m\u001b[43m[\u001b[49m\u001b[43mi\u001b[49m\u001b[43m]\u001b[49m\u001b[43m)\u001b[49m\u001b[43m)\u001b[49m\u001b[43m)\u001b[49m\n",
      "\u001b[0;31mTypeError\u001b[0m: unsupported operand type(s) for -: 'NoneType' and 'NoneType'"
     ]
    }
   ],
   "source": [
    "# 目標値のあわせこみ(第二段階: 感度を利用)\n",
    "Mean_beta_difference = [0]*N_x\n",
    "mean_beta_a = [0]*N_x\n",
    "mean_beta_b = [0]*N_x\n",
    "mean_beta_c = [0]*N_x\n",
    "for i in range(N_x):\n",
    "    x = x_labels[i]\n",
    "    df_x = df_control[x]\n",
    "    for j, b in enumerate(beta):\n",
    "        if df_x[j]==1:\n",
    "            mean_beta_a[i] += b\n",
    "        elif df_x[j]==2:\n",
    "            mean_beta_b[i] += b\n",
    "        elif df_x[j]==3:\n",
    "            mean_beta_c[i] += b\n",
    "    mean_beta_a[i] = mean_beta_a[i] / (N/3)\n",
    "    mean_beta_b[i] = mean_beta_b[i] / (N/3)\n",
    "    mean_beta_c[i] = mean_beta_c[i] / (N/3)\n",
    "    Mean_beta_difference[i] = \\\n",
    "              np.max((mean_beta_a[i],mean_beta_b[i],mean_beta_c[i])) - \\\n",
    "              np.min((mean_beta_a[i],mean_beta_b[i],mean_beta_c[i]))\n"
   ]
  },
  {
   "cell_type": "code",
   "execution_count": null,
   "id": "537ae26d-1382-4ce3-a5e6-70e540ff8b92",
   "metadata": {},
   "outputs": [],
   "source": []
  },
  {
   "cell_type": "code",
   "execution_count": null,
   "id": "343bdacd-b54b-47ae-963b-81601aedc83f",
   "metadata": {},
   "outputs": [],
   "source": []
  },
  {
   "cell_type": "code",
   "execution_count": null,
   "id": "213bc622-5e36-46f1-b30d-4f071972f8ed",
   "metadata": {},
   "outputs": [],
   "source": [
    "# 要因効果図の描画\n",
    "offset = 150 \n",
    "initial_x = 20\n",
    "width = 20\n",
    "x_a = [initial_x]\n",
    "x_b = [initial_x+width]\n",
    "x_c = [initial_x+2*width]\n",
    "# x座標生成\n",
    "for i in range(N_x):\n",
    "    x_a.append(x_a[-1]+offset)\n",
    "    x_b.append(x_b[-1]+offset)\n",
    "    x_c.append(x_c[-1]+offset)\n",
    "\n",
    "plt.figure(1)\n",
    "plt.title(\"SN ratio\")\n",
    "plt.figure(2)\n",
    "plt.title(\"Mean evaluation\")\n",
    "\n",
    "# 要因効果図の描画\n",
    "for i in range(N_x):\n",
    "    sn_a = sn_mean_a[i]\n",
    "    sn_b = sn_mean_b[i]\n",
    "    sn_c = sn_mean_c[i]\n",
    "    plt.figure(1)\n",
    "    plt.plot(x_a[i],sn_a,'bo')\n",
    "    plt.plot(x_b[i],sn_b,'bo')\n",
    "    plt.plot(x_c[i],sn_c,'bo')\n",
    "    plt.plot((x_a[i],x_b[i]),(sn_a,sn_b),'r')\n",
    "    plt.plot((x_b[i],x_c[i]),(sn_b,sn_c),'r')\n",
    "\n",
    "    mean_a = mean_beta_a[i]\n",
    "    mean_b = mean_beta_b[i]\n",
    "    mean_c = mean_beta_c[i]\n",
    "    plt.figure(2)\n",
    "    plt.plot(x_a[i],mean_a,'bo')\n",
    "    plt.plot(x_b[i],mean_b,'bo')\n",
    "    plt.plot(x_c[i],mean_c,'bo')\n",
    "    plt.plot((x_a[i],x_b[i]),(mean_a,mean_b),'r')\n",
    "    plt.plot((x_b[i],x_c[i]),(mean_b,mean_c),'r')\n",
    "\n",
    "# 平均値の描画\n",
    "sn_average = pd.DataFrame(SN).mean()\n",
    "mean_average = pd.DataFrame(beta).mean()\n",
    "plt.figure(1)\n",
    "plt.plot((x_a[0],x_b[-1]),(sn_average,sn_average),'k--')\n",
    "plt.figure(2)\n",
    "plt.plot((x_a[0],x_b[-1]),(mean_average,mean_average),'k--')\n",
    "\n",
    "# ラベルの描画\n",
    "for i in range(N_x):\n",
    "    plt.figure(1)\n",
    "    axes = plt.gca()\n",
    "    yl = axes.get_ylim()[0]\n",
    "    plt.text(x_a[i], yl, 'w'+str(i+1), fontsize=12)\n",
    "\n",
    "    plt.figure(2)\n",
    "    axes = plt.gca()\n",
    "    yl = axes.get_ylim()[0]\n",
    "    plt.text(x_a[i], yl, 'w'+str(i+1), fontsize=12)\n",
    "\n",
    "plt.show(block=False)\n",
    "\n",
    "#input(\"Press Enter to exit.\")\n"
   ]
  }
 ],
 "metadata": {
  "kernelspec": {
   "display_name": "Python 3 (ipykernel)",
   "language": "python",
   "name": "python3"
  },
  "language_info": {
   "codemirror_mode": {
    "name": "ipython",
    "version": 3
   },
   "file_extension": ".py",
   "mimetype": "text/x-python",
   "name": "python",
   "nbconvert_exporter": "python",
   "pygments_lexer": "ipython3",
   "version": "3.9.19"
  }
 },
 "nbformat": 4,
 "nbformat_minor": 5
}
